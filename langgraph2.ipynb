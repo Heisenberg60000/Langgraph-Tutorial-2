{
 "cells": [
  {
   "cell_type": "markdown",
   "id": "fd16bf63-e689-45ab-a1f9-417d4c193824",
   "metadata": {},
   "source": [
    "# Langgraph 2: Graph with Interrupt"
   ]
  },
  {
   "cell_type": "code",
   "execution_count": 2,
   "id": "9b3c41e3-a3e4-4790-9686-3585a8a85c2a",
   "metadata": {},
   "outputs": [],
   "source": [
    "#########  LangGraph  ##########################\n",
    "from langgraph.graph import StateGraph, END\n",
    "from langgraph.prebuilt import ToolNode, tools_condition\n",
    "from langgraph.checkpoint.memory import MemorySaver\n",
    "from langgraph.graph.message import add_messages\n",
    "\n",
    "import panel as pn\n",
    "from typing import TypedDict, Annotated, List, Sequence\n",
    "from IPython.display import display, Markdown,Latex,Image"
   ]
  },
  {
   "cell_type": "markdown",
   "id": "5a1386c3-35d6-46c0-9995-6868e5b52c12",
   "metadata": {},
   "source": [
    "# Graph with interrupt\n",
    "\n",
    "https://towardsdatascience.com/from-basics-to-advanced-exploring-langgraph-e8c1cf4db787\n",
    "\n",
    "https://langchain-ai.github.io/langgraph/concepts/human_in_the_loop/"
   ]
  },
  {
   "cell_type": "markdown",
   "id": "f67fca2d-9908-4019-b154-4c0def9a9687",
   "metadata": {},
   "source": [
    "This code defines a simple graph-based flow using nodes, states, and transitions between them, with each node performing a specific task in sequence. Here's a breakdown of the code:\n",
    "\n",
    "### 1. **State Definition**\n",
    "\n",
    "   ```python\n",
    "   class State(TypedDict):\n",
    "       input: str\n",
    "       messages: Annotated[list, add_messages]\n",
    "   ```\n",
    "   - `State` is a custom data structure using `TypedDict` to define the types of state properties.\n",
    "   - It has two fields:\n",
    "     - `input`: a string input, likely used for carrying initial data.\n",
    "     - `messages`: a list of messages, annotated for additional behavior, presumably where the flow can accumulate or modify output messages as it progresses through nodes.\n",
    "\n",
    "### 2. **Node Functions**\n",
    "\n",
    "   - Each node function (`node1`, `node2`, `node3`) modifies the `state` and then returns it. Each function performs the following:\n",
    "\n",
    "     - **`node1`**: Starts by printing \"Start node1\" and sets `state[\"messages\"]` to `[\"Output node1: I wanna go home\"]`.\n",
    "     - **`node2`**: Starts by printing \"Start node2\" and sets `state[\"messages\"]` to `[\"Output node2: What's the problem with node1?\"]`.\n",
    "     - **`node3`**: Starts by printing \"Start node3\" and sets `state[\"messages\"]` to `[\"node3: I am going home\"]`.\n",
    "\n",
    "   - Each node is designed to sequentially alter `state[\"messages\"]` with a unique message.\n",
    "\n",
    "### 3. **StateGraph Creation**\n",
    "\n",
    "   ```python\n",
    "   builder = StateGraph(State)\n",
    "   builder.add_node(\"node1\", node1)\n",
    "   builder.add_node(\"node2\", node2)\n",
    "   builder.add_node(\"node3\", node3)\n",
    "   builder.set_entry_point(\"node1\")\n",
    "   ```\n",
    "   - `StateGraph` is initialized with the `State` structure, which defines the state format that each node will manipulate.\n",
    "   - Nodes `node1`, `node2`, and `node3` are added to the graph with corresponding functions.\n",
    "   - `set_entry_point(\"node1\")` designates `node1` as the starting point of the graph.\n",
    "\n",
    "### 4. **Defining the Flow (Edges)**\n",
    "\n",
    "   ```python\n",
    "   builder.add_edge(\"node1\", \"node2\")\n",
    "   builder.add_edge(\"node2\", \"node3\")\n",
    "   builder.add_edge(\"node3\", END)\n",
    "   ```\n",
    "   - These edges define the sequence in which nodes execute:\n",
    "     - After `node1`, the flow proceeds to `node2`.\n",
    "     - After `node2`, it moves to `node3`.\n",
    "     - After `node3`, the process ends (`END`).\n",
    "\n",
    "### 5. **Memory Setup and Graph Compilation**\n",
    "\n",
    "   ```python\n",
    "   memory = MemorySaver()\n",
    "   graph = builder.compile(checkpointer=memory, interrupt_before=[\"node3\"])\n",
    "   ```\n",
    "   - `MemorySaver()` is set up to track the state across the nodes, storing each step in memory.\n",
    "   - `interrupt_before=[\"node3\"]` indicates an interruption before `node3` executes, perhaps to review or change the state.\n",
    "\n",
    "### 6. **Visualization of the Graph**\n",
    "\n",
    "   ```python\n",
    "   display(Image(graph.get_graph().draw_mermaid_png()))\n",
    "   ```\n",
    "   - Finally, the code generates and displays a graphical representation of the flow using `Mermaid` notation. Each node and edge of the graph will be displayed, showing how the flow progresses from `node1` to `node2` to `node3`.\n",
    "\n",
    "### Summary\n",
    "\n",
    "This code builds a simple stateful flow where:\n",
    "- **Each node** changes the `state[\"messages\"]`.\n",
    "- **Flow** goes from `node1` ➔ `node2` ➔ `node3`.\n",
    "- **Memory and interruption** allow state tracking and intervention before the final node.\n",
    "- **Graph visualization** shows the flow for easier comprehension and debugging. \n",
    "\n",
    "This setup can be particularly useful in chatbot flows, decision trees, or automated process orchestration scenarios where states change sequentially through nodes."
   ]
  },
  {
   "cell_type": "code",
   "execution_count": 3,
   "id": "6df1f2f9-f003-49a0-b534-0b188f1484d5",
   "metadata": {},
   "outputs": [
    {
     "data": {
      "image/jpeg": "[encoded data removed]",
      "text/plain": [
       "<IPython.core.display.Image object>"
      ]
     },
     "metadata": {},
     "output_type": "display_data"
    }
   ],
   "source": [
    "class State(TypedDict):\n",
    "    input: str\n",
    "    messages: Annotated[list, add_messages]\n",
    "\n",
    "\n",
    "def node1(state:State):\n",
    "    print(\"Start node 1\")\n",
    "    state[\"messages\"]=[\"Output node1: I wanna go home\"]\n",
    "    return state \n",
    "\n",
    "\n",
    "def node2(state:State):\n",
    "    print(\"Start node2\")\n",
    "    state[\"messages\"]=[\"Output node2: What's the problem with node1?\"]\n",
    "    return state \n",
    "\n",
    "\n",
    "\n",
    "def node3(state:State):\n",
    "    print(\"Start node3\")\n",
    "    state[\"messages\"]=[\"node3: I am going home\"]\n",
    "    return state \n",
    "\n",
    "\n",
    "\n",
    "builder = StateGraph(State)\n",
    "builder.add_node(\"node1\", node1)\n",
    "builder.add_node(\"node2\", node2)\n",
    "builder.add_node(\"node3\", node3)\n",
    "builder.set_entry_point(\"node1\") \n",
    "builder.add_edge(\"node1\", \"node2\")\n",
    "builder.add_edge(\"node2\", \"node3\")\n",
    "builder.add_edge(\"node3\", END)\n",
    "\n",
    "# Set up memory\n",
    "memory = MemorySaver()\n",
    "\n",
    "# Add\n",
    "graph = builder.compile(checkpointer=memory,interrupt_before=[\"node3\"])\n",
    "\n",
    "# View\n",
    "display(Image(graph.get_graph().draw_mermaid_png()))"
   ]
  },
  {
   "cell_type": "markdown",
   "id": "9ff9ea53-f609-4b1b-a819-45ea51437d83",
   "metadata": {},
   "source": [
    "## The graph is executed up to node 2.\n",
    "\n",
    "Note:\n",
    "\n",
    "1. `initial_input` is passed to `state` before the start of `node1`.\n",
    "\n",
    "2. The `state` list is populated with the messages from the nodes.\n",
    "\n",
    "3. The graph saves the results due to `checkpoint=memory`, meaning if you run the graph again, the previous list will continue."
   ]
  },
  {
   "cell_type": "code",
   "execution_count": 4,
   "id": "590c6765-7e52-46f3-ac5a-31071014f0df",
   "metadata": {},
   "outputs": [
    {
     "name": "stdout",
     "output_type": "stream",
     "text": [
      "{'input': 'hello world', 'messages': []}\n",
      "Start node 1\n",
      "{'input': 'hello world', 'messages': [HumanMessage(content='Output node1: I wanna go home', additional_kwargs={}, response_metadata={}, id='f2c36ea2-4330-46ce-b0e2-3581d52149bb')]}\n",
      "Start node2\n",
      "{'input': 'hello world', 'messages': [HumanMessage(content='Output node1: I wanna go home', additional_kwargs={}, response_metadata={}, id='f2c36ea2-4330-46ce-b0e2-3581d52149bb'), HumanMessage(content=\"Output node2: What's the problem with node1?\", additional_kwargs={}, response_metadata={}, id='097610b9-c9e7-4e81-a814-f188b3e02601')]}\n"
     ]
    }
   ],
   "source": [
    "thread = {\"configurable\": {\"thread_id\": \"1\"}}\n",
    "state=State()\n",
    "initial_input = {\"input\": \"hello world\"}\n",
    "for state in graph.stream(initial_input, thread, stream_mode=\"values\"):\n",
    "    print(state)"
   ]
  },
  {
   "cell_type": "code",
   "execution_count": 5,
   "id": "81b72e70-06d9-4c90-a676-03db174ef4c3",
   "metadata": {},
   "outputs": [
    {
     "name": "stdout",
     "output_type": "stream",
     "text": [
      "{'input': 'hello world', 'messages': [HumanMessage(content='Output node1: I wanna go home', additional_kwargs={}, response_metadata={}, id='f2c36ea2-4330-46ce-b0e2-3581d52149bb'), HumanMessage(content=\"Output node2: What's the problem with node1?\", additional_kwargs={}, response_metadata={}, id='097610b9-c9e7-4e81-a814-f188b3e02601')]}\n"
     ]
    }
   ],
   "source": [
    "print(state)"
   ]
  },
  {
   "cell_type": "markdown",
   "id": "1fc6b79a-6744-4920-b6ef-96d678e4e6b0",
   "metadata": {},
   "source": [
    "## Since input=none the graph is continued "
   ]
  },
  {
   "cell_type": "code",
   "execution_count": 6,
   "id": "ad67b231-81f6-4333-91a4-96f3c8cb6f9d",
   "metadata": {},
   "outputs": [
    {
     "name": "stdout",
     "output_type": "stream",
     "text": [
      "{'input': 'hello world', 'messages': [HumanMessage(content='Output node1: I wanna go home', additional_kwargs={}, response_metadata={}, id='f2c36ea2-4330-46ce-b0e2-3581d52149bb'), HumanMessage(content=\"Output node2: What's the problem with node1?\", additional_kwargs={}, response_metadata={}, id='097610b9-c9e7-4e81-a814-f188b3e02601')]}\n",
      "Start node3\n",
      "{'input': 'hello world', 'messages': [HumanMessage(content='Output node1: I wanna go home', additional_kwargs={}, response_metadata={}, id='f2c36ea2-4330-46ce-b0e2-3581d52149bb'), HumanMessage(content=\"Output node2: What's the problem with node1?\", additional_kwargs={}, response_metadata={}, id='097610b9-c9e7-4e81-a814-f188b3e02601'), HumanMessage(content='node3: I am going home', additional_kwargs={}, response_metadata={}, id='6dd5dc3f-54a1-44fa-b511-cded69c75a9a')]}\n"
     ]
    }
   ],
   "source": [
    "for state in graph.stream(None, thread, stream_mode=\"values\"):\n",
    "    print(state)    \n"
   ]
  },
  {
   "cell_type": "markdown",
   "id": "067c18d2-d4b5-43ac-89d1-2201ff7a74e8",
   "metadata": {},
   "source": [
    "## Panel with widget for user input"
   ]
  },
  {
   "cell_type": "markdown",
   "id": "4662cd7f-6cd9-48e0-98d8-5dde9f8d1074",
   "metadata": {},
   "source": [
    "This code creates an interactive user interface where the user can:\n",
    "\n",
    "1. Enter a question in the text input field.\n",
    "2. Click the \"Answer\" button to submit the input.\n",
    "3. The input is streamed through a `graph`, and the response is displayed in real time in the output field.\n",
    "\n",
    "This setup is especially useful for workflows that require real-time feedback, as the input is processed step-by-step through a `graph` structure."
   ]
  },
  {
   "cell_type": "code",
   "execution_count": 7,
   "id": "f0d138e2-448c-4e65-a90c-79236812b96e",
   "metadata": {
    "scrolled": true
   },
   "outputs": [
    {
     "name": "stdout",
     "output_type": "stream",
     "text": [
      "Launching server at http://localhost:53781\n"
     ]
    },
    {
     "data": {
      "text/plain": [
       "<panel.io.server.Server at 0x1ce4d7b0820>"
      ]
     },
     "execution_count": 7,
     "metadata": {},
     "output_type": "execute_result"
    },
    {
     "name": "stdout",
     "output_type": "stream",
     "text": [
      "input {'input': 'wassuup'}\n",
      "Start node 1\n",
      "Start node2\n",
      "input None\n",
      "Start node3\n"
     ]
    }
   ],
   "source": [
    "question = pn.widgets.TextInput(name=\"Input here please\", placeholder=\"Task\", sizing_mode=\"stretch_width\")\n",
    "output = pn.pane.Markdown(\"Answer\")  # This will display the answer text\n",
    "\n",
    "# Function to handle input and update the output\n",
    "\n",
    "def input_function(event):\n",
    "    if question.value:\n",
    "        input = {\"input\": question.value}\n",
    "    else:\n",
    "        input=None\n",
    "    print(\"input\",input)\n",
    "    out=[]\n",
    "    for state in graph.stream(input, thread, stream_mode=\"values\"):\n",
    "        if state[\"messages\"]:\n",
    "            out.append(state[\"messages\"][-1].content)\n",
    "    answer=\"Hint:graph continues if input is empty! Here are the latest messages\"+ \"\\n\".join(out)\n",
    "    output.object = f\"**Answer:**\\n\\n{answer}\"  # Update output with the answer\n",
    "\n",
    "# Set up the answer button and bind the function\n",
    "answer_button = pn.widgets.Button(name=\"Answer\", button_type=\"primary\")\n",
    "answer_button.on_click(input_function)\n",
    "\n",
    "# Layout with question input, answer button, and output display\n",
    "Tab = pn.Column(\n",
    "    pn.Row(question),\n",
    "    pn.panel(answer_button, loading_indicator=True, height=50),\n",
    "    pn.layout.Divider(),\n",
    "    pn.panel(output, loading_indicator=True, height=900),\n",
    "    sizing_mode=\"stretch_width\"\n",
    ")\n",
    "\n",
    "layout = pn.Column(pn.Tabs(('Answer', Tab)))\n",
    "layout.show()\n"
   ]
  },
  {
   "cell_type": "markdown",
   "id": "2da9446c-b573-4971-acfd-7e0cf26e62fb",
   "metadata": {},
   "source": [
    "### Exercise\n",
    "\n",
    "a) Run the app so that the graph is executed up to and including node 3.\n",
    "\n",
    "b) Add the following:\n",
    "\n",
    "```python\n",
    "for state in graph.stream(None, thread, stream_mode=\"values\"):\n",
    "    out.append(state[\"messages\"][-1].content)\n",
    "```\n",
    "\n",
    "to continue executing the graph up to node 3."
   ]
  },
  {
   "cell_type": "markdown",
   "id": "255982fe-bedb-4186-9c5a-dd6df5a01477",
   "metadata": {},
   "source": [
    "## Solution"
   ]
  },
  {
   "cell_type": "code",
   "execution_count": 39,
   "id": "de384ddd-4e71-447e-87c4-425a75f6632d",
   "metadata": {},
   "outputs": [
    {
     "name": "stdout",
     "output_type": "stream",
     "text": [
      "Launching server at http://localhost:63705\n"
     ]
    },
    {
     "data": {
      "text/plain": [
       "<panel.io.server.Server at 0x284e9a88e50>"
      ]
     },
     "execution_count": 39,
     "metadata": {},
     "output_type": "execute_result"
    },
    {
     "name": "stdout",
     "output_type": "stream",
     "text": [
      "Start node 1\n",
      "Start node2\n",
      "Start node3\n",
      "out ['Output node1: I wanna go home', \"Output node2: What's the problem with node1?\", \"Output node2: What's the problem with node1?\", 'node3: I am going home']\n"
     ]
    }
   ],
   "source": [
    "question = pn.widgets.TextInput(name=\"Input here please\", placeholder=\"Task\", sizing_mode=\"stretch_width\")\n",
    "output = pn.pane.Markdown(\"Answer\")  # This will display the answer text\n",
    "\n",
    "# Function to handle input and update the output\n",
    "\n",
    "def input_function(event):\n",
    "    input = {\"input\": question.value}\n",
    "\n",
    "    out=[]\n",
    "\n",
    "    for state in graph.stream(input, thread, stream_mode=\"values\"):\n",
    "        if state[\"messages\"]:\n",
    "            out.append(state[\"messages\"][-1].content)    \n",
    "        \n",
    "    for state in graph.stream(None, thread, stream_mode=\"values\"):\n",
    "        out.append(state[\"messages\"][-1].content)  \n",
    "       \n",
    "    print(\"out\",out)    \n",
    "    answer=\"Good job \" + \"\\n\".join(out)\n",
    "    output.object = f\"**Answer:**\\n\\n{answer}\"  # Update output with the answer\n",
    "\n",
    "# Set up the answer button and bind the function\n",
    "answer_button = pn.widgets.Button(name=\"Answer\", button_type=\"primary\")\n",
    "answer_button.on_click(input_function)\n",
    "\n",
    "# Layout with question input, answer button, and output display\n",
    "Tab = pn.Column(\n",
    "    pn.Row(question),\n",
    "    pn.panel(answer_button, loading_indicator=True, height=50),\n",
    "    pn.layout.Divider(),\n",
    "    pn.panel(output, loading_indicator=True, height=900),\n",
    "    sizing_mode=\"stretch_width\"\n",
    ")\n",
    "\n",
    "layout = pn.Column(pn.Tabs(('Answer', Tab)))\n",
    "layout.show()\n"
   ]
  },
  {
   "cell_type": "markdown",
   "id": "31bff5c7-8b68-4302-bafd-690654bc204b",
   "metadata": {},
   "source": [
    "Here’s an improved version for clarity and readability:\n",
    "\n",
    "---\n",
    "\n",
    "## Same Functionality as Above\n",
    "\n",
    "However:\n",
    "\n",
    "- Use `question` as the input for the `input_function`.\n",
    "- Replace with the `bound` function for binding.\n",
    "\n"
   ]
  },
  {
   "cell_type": "code",
   "execution_count": 42,
   "id": "4df09344-ef93-4b0b-bed3-54622cc9cbd8",
   "metadata": {},
   "outputs": [
    {
     "name": "stdout",
     "output_type": "stream",
     "text": [
      "Launching server at http://localhost:63784\n"
     ]
    },
    {
     "data": {
      "text/plain": [
       "<panel.io.server.Server at 0x284e9663a30>"
      ]
     },
     "execution_count": 42,
     "metadata": {},
     "output_type": "execute_result"
    },
    {
     "name": "stdout",
     "output_type": "stream",
     "text": [
      "Start node 1\n",
      "Start node2\n",
      "Start node3\n",
      "input_function Graph continuednode3: I am going home\n",
      "Output node1: I wanna go home\n",
      "Output node2: What's the problem with node1?\n",
      "Output node2: What's the problem with node1?\n",
      "node3: I am going home\n"
     ]
    }
   ],
   "source": [
    "question = pn.widgets.TextInput(name=\"Input here please\", placeholder=\"Task\", sizing_mode=\"stretch_width\")\n",
    "output = pn.pane.Markdown(\"Answer\")  # This will display the answer text\n",
    "\n",
    "# Function to handle input and update the output\n",
    "\n",
    "def input_function(question:str):\n",
    "    thread = {\"configurable\": {\"thread_id\": \"1\"}}  \n",
    "    input = {\"input\": question}\n",
    "    out=[]\n",
    "    for state in graph.stream(input, thread, stream_mode=\"values\"):\n",
    "        if state[\"messages\"]:\n",
    "            out.append(state[\"messages\"][-1].content)\n",
    "    for state in graph.stream(None, thread, stream_mode=\"values\"):\n",
    "        out.append(state[\"messages\"][-1].content)  \n",
    "    answer=\"Graph continued\"+ \"\\n\".join(out)\n",
    "    print(\"input_function\",answer)\n",
    "    return answer\n",
    "\n",
    "## Widget für die Eingabe\n",
    "question = pn.widgets.TextInput(name=\"Input here please\", placeholder=\"Task\", sizing_mode=\"stretch_width\")\n",
    "## Panel für die AUsgabe\n",
    "output = pn.pane.Markdown(\"Answer\")\n",
    "answer_button = pn.widgets.Button(name=\"Answer\", button_type=\"primary\", width=50, height=50)\n",
    "\n",
    "def button_click(event):\n",
    "    if answer_button.clicks > 0:\n",
    "        bound_function = pn.bind(input_function, question)\n",
    "        try:\n",
    "            result = bound_function()\n",
    "            output.object = f\"Start answer:\\n {result}\"\n",
    "        except Exception as e:\n",
    "             output.object = f\"Error in button_click: {e}\"\n",
    "answer_button.on_click(button_click)\n",
    "\n",
    "Tab = pn.Column(\n",
    "    pn.Row(question),\n",
    "    pn.panel(answer_button, loading_indicator=True, height=50),\n",
    "    pn.layout.Divider(),\n",
    "    pn.panel(output, loading_indicator=True, height=900),\n",
    "    sizing_mode=\"stretch_width\"\n",
    ")\n",
    "\n",
    "layout = pn.Column(pn.Tabs(('Answer', Tab)))\n",
    "layout.show()\n"
   ]
  },
  {
   "cell_type": "code",
   "execution_count": null,
   "id": "418f63d8-52d2-43e1-82fb-c5024ddde7d8",
   "metadata": {},
   "outputs": [],
   "source": []
  }
 ],
 "metadata": {
  "kernelspec": {
   "display_name": "Python 3 (ipykernel)",
   "language": "python",
   "name": "python3"
  },
  "language_info": {
   "codemirror_mode": {
    "name": "ipython",
    "version": 3
   },
   "file_extension": ".py",
   "mimetype": "text/x-python",
   "name": "python",
   "nbconvert_exporter": "python",
   "pygments_lexer": "ipython3",
   "version": "3.10.0"
  }
 },
 "nbformat": 4,
 "nbformat_minor": 5
}
